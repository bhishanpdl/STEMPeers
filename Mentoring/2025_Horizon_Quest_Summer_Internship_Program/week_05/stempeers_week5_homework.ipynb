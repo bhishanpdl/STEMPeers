{
  "nbformat": 4,
  "nbformat_minor": 0,
  "metadata": {
    "colab": {
      "provenance": []
    },
    "kernelspec": {
      "name": "python3",
      "display_name": "Python 3"
    },
    "language_info": {
      "name": "python"
    }
  },
  "cells": [
    {
      "cell_type": "markdown",
      "source": [
        "# Week 5 Homework: Data Visualization Using python"
      ],
      "metadata": {
        "id": "ui-gO3vqOOtm"
      }
    },
    {
      "cell_type": "markdown",
      "source": [
        "## 🏗️ 1. Create Sample Sales Data"
      ],
      "metadata": {
        "id": "24nZmDQfPqEM"
      }
    },
    {
      "cell_type": "code",
      "source": [
        "def create_sample_sales_data():\n",
        "    \"\"\"\n",
        "    Homework Task 1:\n",
        "    Generate a pandas DataFrame that simulates monthly sales data for 3 fictional stores.\n",
        "\n",
        "    📌 Instructions:\n",
        "    - Create data for 12 months.\n",
        "    - Include columns: 'Month', 'Store A', 'Store B', 'Store C'.\n",
        "    - Fill with random integer sales values between 50 and 200.\n",
        "    - Return the DataFrame.\n",
        "    \"\"\"\n",
        "    pass  # Replace with actual code"
      ],
      "metadata": {
        "id": "r3hnpQg7PsU7"
      },
      "execution_count": null,
      "outputs": []
    },
    {
      "cell_type": "markdown",
      "source": [
        "## 📊 2. Visualize Using Matplotlib"
      ],
      "metadata": {
        "id": "SC7nWrULPux1"
      }
    },
    {
      "cell_type": "code",
      "source": [
        "def plot_sales_matplotlib(df):\n",
        "    \"\"\"\n",
        "    Homework Task 2:\n",
        "    Using matplotlib, create a line plot to compare monthly sales of the three stores.\n",
        "\n",
        "    📌 Instructions:\n",
        "    - Use the DataFrame generated from Task 1.\n",
        "    - Plot lines for each store with different colors.\n",
        "    - Add title, x and y axis labels, and a legend.\n",
        "    - Customize markers (circle, square, triangle) for each store.\n",
        "    \"\"\"\n",
        "    pass  # Replace with actual code"
      ],
      "metadata": {
        "id": "4NQGEIgfPxp9"
      },
      "execution_count": null,
      "outputs": []
    },
    {
      "cell_type": "markdown",
      "source": [
        "## 🖼️ 3. Visualize Using Seaborn"
      ],
      "metadata": {
        "id": "hnB0SiDVP0Dy"
      }
    },
    {
      "cell_type": "code",
      "source": [
        "def plot_sales_seaborn(df):\n",
        "    \"\"\"\n",
        "    Homework Task 3:\n",
        "    Use seaborn to create a barplot showing total annual sales for each store.\n",
        "\n",
        "    📌 Instructions:\n",
        "    - First, calculate the total sales per store across all months.\n",
        "    - Use seaborn's `barplot` to display the results.\n",
        "    - Add axis labels and a clear title.\n",
        "    - Set a pleasant color palette like 'pastel' or 'muted'.\n",
        "    \"\"\"\n",
        "    pass  # Replace with actual code"
      ],
      "metadata": {
        "id": "VOTFaN5LP2hE"
      },
      "execution_count": null,
      "outputs": []
    },
    {
      "cell_type": "markdown",
      "source": [
        "## 📈 4. Visualize Using Plotly"
      ],
      "metadata": {
        "id": "NNkRhzTbP5T_"
      }
    },
    {
      "cell_type": "code",
      "source": [
        "def plot_sales_plotly(df):\n",
        "    \"\"\"\n",
        "    Homework Task 4:\n",
        "    Use Plotly to create an interactive grouped bar chart comparing monthly sales of all stores.\n",
        "\n",
        "    📌 Instructions:\n",
        "    - Use the original monthly sales DataFrame.\n",
        "    - Plot bars for each store side-by-side for each month.\n",
        "    - Add tooltips and hover info.\n",
        "    - Label axes and apply interactivity features.\n",
        "    - Upload screenshot of the plot or share a live link (if using online notebook).\n",
        "    \"\"\"\n",
        "    pass  # Replace with actual code"
      ],
      "metadata": {
        "id": "fImhM289P8rb"
      },
      "execution_count": null,
      "outputs": []
    }
  ]
}