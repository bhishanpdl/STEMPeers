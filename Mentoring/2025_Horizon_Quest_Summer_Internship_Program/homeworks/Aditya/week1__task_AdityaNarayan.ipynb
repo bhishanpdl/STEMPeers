{
  "nbformat": 4,
  "nbformat_minor": 0,
  "metadata": {
    "colab": {
      "provenance": []
    },
    "kernelspec": {
      "name": "python3",
      "display_name": "Python 3"
    },
    "language_info": {
      "name": "python"
    }
  },
  "cells": [
    {
      "cell_type": "markdown",
      "source": [
        "Hello World Code"
      ],
      "metadata": {
        "id": "kN2-gcYsE9v3"
      }
    },
    {
      "cell_type": "code",
      "execution_count": null,
      "metadata": {
        "colab": {
          "base_uri": "https://localhost:8080/"
        },
        "id": "k8RcKjXTEm8K",
        "outputId": "1b1f3c4e-7a9f-4061-94f2-2f6c083fa1d4"
      },
      "outputs": [
        {
          "output_type": "stream",
          "name": "stdout",
          "text": [
            "Hello World!\n"
          ]
        }
      ],
      "source": [
        "print(\"Hello World!\")"
      ]
    },
    {
      "cell_type": "markdown",
      "source": [
        "Square of a Number"
      ],
      "metadata": {
        "id": "oFj6Z9ckFJMl"
      }
    },
    {
      "cell_type": "code",
      "source": [
        "def square(x):\n",
        "    return x ** 2\n",
        "\n",
        "print(square(5))\n",
        "print(square(16))"
      ],
      "metadata": {
        "colab": {
          "base_uri": "https://localhost:8080/"
        },
        "id": "s1IEzp0KFKB9",
        "outputId": "3be04565-fbb9-4d03-f2e0-c9356e9e2fcb"
      },
      "execution_count": null,
      "outputs": [
        {
          "output_type": "stream",
          "name": "stdout",
          "text": [
            "25\n",
            "256\n"
          ]
        }
      ]
    },
    {
      "cell_type": "markdown",
      "source": [
        "Converting Celsius to Farenheit"
      ],
      "metadata": {
        "id": "0M_Dwgw1FI0i"
      }
    },
    {
      "cell_type": "code",
      "source": [
        "def Celsius_to_Farenheit(x):\n",
        "    return (x * 9/5) + 32\n",
        "\n",
        "print(Celsius_to_Farenheit(25))\n",
        "print(Celsius_to_Farenheit(0))"
      ],
      "metadata": {
        "colab": {
          "base_uri": "https://localhost:8080/"
        },
        "id": "SJA2kjJ-FKGM",
        "outputId": "0c46c47b-734c-4f7d-cbca-b3724d82b28b"
      },
      "execution_count": null,
      "outputs": [
        {
          "output_type": "stream",
          "name": "stdout",
          "text": [
            "77.0\n",
            "32.0\n"
          ]
        }
      ]
    },
    {
      "cell_type": "markdown",
      "source": [
        "Even or Odd Number"
      ],
      "metadata": {
        "id": "4pc6U1M9F0S_"
      }
    },
    {
      "cell_type": "code",
      "source": [
        "def even_odd(x):\n",
        "    if x / 2 == int(x / 2):\n",
        "        print(\"even\")\n",
        "    else:\n",
        "        print(\"odd\")\n",
        "\n",
        "even_odd(44)\n",
        "even_odd(45)"
      ],
      "metadata": {
        "colab": {
          "base_uri": "https://localhost:8080/"
        },
        "id": "T82B96UdFKEG",
        "outputId": "5be93abd-2cad-4993-ae70-c39a6b9d572d"
      },
      "execution_count": null,
      "outputs": [
        {
          "output_type": "stream",
          "name": "stdout",
          "text": [
            "even\n",
            "odd\n"
          ]
        }
      ]
    }
  ]
}