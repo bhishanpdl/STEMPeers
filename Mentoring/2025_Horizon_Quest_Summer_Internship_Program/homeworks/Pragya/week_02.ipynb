{
  "nbformat": 4,
  "nbformat_minor": 0,
  "metadata": {
    "colab": {
      "provenance": []
    },
    "kernelspec": {
      "name": "python3",
      "display_name": "Python 3"
    },
    "language_info": {
      "name": "python"
    }
  },
  "cells": [
    {
      "cell_type": "markdown",
      "source": [
        "Name: Pragya Saxena, Email: pragya.saxena0409@gmail.com Submission date: 7/2/25"
      ],
      "metadata": {
        "id": "NsTUGicy0WuW"
      }
    },
    {
      "cell_type": "markdown",
      "source": [
        "Week 2 Homework: Python Fundamentals for AI/ML"
      ],
      "metadata": {
        "id": "jwbig3SrzwcB"
      }
    },
    {
      "cell_type": "markdown",
      "source": [
        "Question 1: Basic File Operations"
      ],
      "metadata": {
        "id": "hIc4dhm20nyr"
      }
    },
    {
      "cell_type": "code",
      "source": [
        "grades_file = open(\"my_grades.txt\", \"w\")\n",
        "name = input(\"Name: \")\n",
        "grades_file.write(name +\"\\n\")\n",
        "subjects = [\"Math\", \"Science\", \"English\", \"History\", \"Art\"]\n",
        "grades = []\n",
        "for subject in subjects:\n",
        "  grade = float(input(subject + \":\"))\n",
        "  grades.append(grade)\n",
        "  grades_file.write(subject + \":\" + str(grade) + \"\\n\")\n",
        "average_grade = sum(grades)/len(grades)\n",
        "grades_file.write(\"Average grade: \" + str(average_grade) + \"\\n\")\n",
        "print(\"Average grade: \" + str(average_grade))\n",
        "grades_file.close()\n"
      ],
      "metadata": {
        "id": "lK0Ty7sj0bqA",
        "colab": {
          "base_uri": "https://localhost:8080/"
        },
        "outputId": "48339b52-b900-4999-fcff-019e82e49a62"
      },
      "execution_count": null,
      "outputs": [
        {
          "output_type": "stream",
          "name": "stdout",
          "text": [
            "Name: pragya\n",
            "Math:78\n",
            "Science:89\n",
            "English:87\n",
            "History:87\n",
            "Art:99\n",
            "Average grade: 88.0\n"
          ]
        }
      ]
    },
    {
      "cell_type": "markdown",
      "source": [
        "Question 2: Simple Student Class"
      ],
      "metadata": {
        "id": "xY2pBkrW1FiF"
      }
    },
    {
      "cell_type": "code",
      "source": [
        "class Student:\n",
        "  def __init__(self, name, age, grades):\n",
        "    self.name = name\n",
        "    self.age = age\n",
        "    self.grades = grades\n",
        "  def add_grade(self,grade):\n",
        "    self.grades.append(grade)\n",
        "  def get_average(self):\n",
        "    def get_average(self):\n",
        "      if len(self.grades) == 0:\n",
        "        return 0\n",
        "    return sum(self.grades) / len(self.grades)\n",
        "  def get_letter_grade(self):\n",
        "    average = self.get_average()\n",
        "    if average >= 90:\n",
        "      return \"A\"\n",
        "    elif average >= 80:\n",
        "      return \"B\"\n",
        "    elif average >= 70:\n",
        "      return \"C\"\n",
        "    elif average >= 60:\n",
        "      return \"D\"\n",
        "    else:\n",
        "      return \"F\"\n",
        "\n",
        "student = Student(\"Alice\", 16, [85, 90, 78])\n",
        "student.add_grade(88)\n",
        "print(f\"Average: {student.get_average()}\")\n",
        "print(f\"Letter Grade: {student.get_letter_grade()}\")\n"
      ],
      "metadata": {
        "id": "O1b3pdrm1IJQ",
        "colab": {
          "base_uri": "https://localhost:8080/"
        },
        "outputId": "3121bb32-04e6-4184-b1d7-cd0e928d6310"
      },
      "execution_count": null,
      "outputs": [
        {
          "output_type": "stream",
          "name": "stdout",
          "text": [
            "Average: 85.25\n",
            "Letter Grade: B\n"
          ]
        }
      ]
    },
    {
      "cell_type": "markdown",
      "source": [
        "Question 3: Reading CSV with Pandas"
      ],
      "metadata": {
        "id": "Tyr_0xILftTG"
      }
    },
    {
      "cell_type": "code",
      "source": [
        "import pandas as pd\n",
        "from google.colab import drive\n",
        "drive.mount('/content/drive')\n",
        "df = pd.read_csv('/content/drive/MyDrive/student_files.csv')\n",
        "print(\"First 3 rows: \")\n",
        "print(df.head(3))\n",
        "#prints out the description of the Dataset\n",
        "print(\"\\nDataset Info:\")\n",
        "print(df.info())\n",
        "#finds the average grade for each subject\n",
        "avg_Math = df[\"Math\"].mean()\n",
        "avg_Sci = df[\"Science\"].mean()\n",
        "avg_Eng = df[\"English\"].mean()\n",
        "print(f\"The average grade for 'Math' is: {avg_Math}\")\n",
        "print(f\"The average grade for 'Science' is: {avg_Sci}\")\n",
        "print(f\"The average grade for 'English' is: {avg_Eng}\")\n",
        "#makes a separate column and adds the sum of each students grades to it\n",
        "df[\"Total_Score\"] = df[\"Math\"] + df[\"Science\"] + df[\"English\"]\n",
        "#determines the student with the highest score\n",
        "top_student = df.loc[df[\"Total_Score\"].idxmax()]\n",
        "#prints result\n",
        "print(\"\\nStudent with the highest total score: \")\n",
        "print(top_student)"
      ],
      "metadata": {
        "colab": {
          "base_uri": "https://localhost:8080/"
        },
        "id": "5w19_9KJftq6",
        "outputId": "430cc732-e936-469c-adc7-3035346f362f"
      },
      "execution_count": null,
      "outputs": [
        {
          "output_type": "stream",
          "name": "stdout",
          "text": [
            "Drive already mounted at /content/drive; to attempt to forcibly remount, call drive.mount(\"/content/drive\", force_remount=True).\n",
            "First 3 rows: \n",
            "    Name  Age  Math  Science  English\n",
            "0  Alice   16    85       90       88\n",
            "1    Bob   17    78       82       85\n",
            "2   Jack   17    65       79       98\n",
            "\n",
            "Dataset Info:\n",
            "<class 'pandas.core.frame.DataFrame'>\n",
            "RangeIndex: 10 entries, 0 to 9\n",
            "Data columns (total 5 columns):\n",
            " #   Column   Non-Null Count  Dtype \n",
            "---  ------   --------------  ----- \n",
            " 0   Name     10 non-null     object\n",
            " 1   Age      10 non-null     int64 \n",
            " 2   Math     10 non-null     int64 \n",
            " 3   Science  10 non-null     int64 \n",
            " 4   English  10 non-null     int64 \n",
            "dtypes: int64(4), object(1)\n",
            "memory usage: 532.0+ bytes\n",
            "None\n",
            "The average grade for 'Math' is: 75.8\n",
            "The average grade for 'Science' is: 85.1\n",
            "The average grade for 'English' is: 88.2\n",
            "\n",
            "Student with the highest total score: \n",
            "Name           Bryan\n",
            "Age               16\n",
            "Math              98\n",
            "Science           99\n",
            "English          100\n",
            "Total_Score      297\n",
            "Name: 6, dtype: object\n"
          ]
        }
      ]
    },
    {
      "cell_type": "markdown",
      "source": [
        "Question 4: Basic Data Visualization"
      ],
      "metadata": {
        "id": "YU5epg19ys0x"
      }
    },
    {
      "cell_type": "code",
      "source": [
        "import matplotlib.pyplot as plt\n",
        "plt.title('Subjects average score')\n",
        "x_avg = ([\"Math avg. score \", \"Science avg. score \", \"English avg. score\"])\n",
        "y_avg = ([avg_Math, avg_Sci, avg_Eng])\n",
        "plt.bar(x_avg,y_avg, color = \"red\")\n",
        "plt.show()"
      ],
      "metadata": {
        "id": "g79Ghz9EytKI",
        "colab": {
          "base_uri": "https://localhost:8080/",
          "height": 452
        },
        "outputId": "2af9ab0a-6466-4d05-8756-cd1ad4b9368a"
      },
      "execution_count": null,
      "outputs": [
        {
          "output_type": "display_data",
          "data": {
            "text/plain": [
              "<Figure size 640x480 with 1 Axes>"
            ],
            "image/png": "[encoded data removed]"
          },
          "metadata": {}
        }
      ]
    },
    {
      "cell_type": "markdown",
      "source": [
        "Histogram"
      ],
      "metadata": {
        "id": "k-JVBZfIEP30"
      }
    },
    {
      "cell_type": "code",
      "source": [
        "import matplotlib.pyplot as plt\n",
        "plt.hist(df[\"Math\"], bins=3, edgecolor = 'black', color='darkblue')\n",
        "plt.title(\"Diff. Math scores\")\n",
        "plt.xlabel(\"Math Score\")\n",
        "plt.ylabel(\"Number of Students\")\n",
        "plt.show()"
      ],
      "metadata": {
        "colab": {
          "base_uri": "https://localhost:8080/",
          "height": 472
        },
        "id": "mBMWq0na4Qk1",
        "outputId": "276b513d-5fb6-4bf1-dc2d-0a189c6c686a"
      },
      "execution_count": null,
      "outputs": [
        {
          "output_type": "display_data",
          "data": {
            "text/plain": [
              "<Figure size 640x480 with 1 Axes>"
            ],
            "image/png": "[encoded data removed]"
          },
          "metadata": {}
        }
      ]
    },
    {
      "cell_type": "markdown",
      "source": [
        "Scatterplot"
      ],
      "metadata": {
        "id": "zDqUUQqDEOv6"
      }
    },
    {
      "cell_type": "code",
      "source": [
        "import matplotlib.pyplot as plt\n",
        "plt.scatter(df[\"Math\"], df[\"Science\"], color='green', edgecolors='black')\n",
        "plt.title(\"Math vs. Science scores\")\n",
        "plt.xlabel(\"Math scores\")\n",
        "plt.ylabel(\"Science scores\")\n",
        "plt.show()"
      ],
      "metadata": {
        "colab": {
          "base_uri": "https://localhost:8080/",
          "height": 472
        },
        "id": "e2Q3sol7EU_Z",
        "outputId": "6b7d940d-d2dd-40c3-90a0-925e2fe629a4"
      },
      "execution_count": null,
      "outputs": [
        {
          "output_type": "display_data",
          "data": {
            "text/plain": [
              "<Figure size 640x480 with 1 Axes>"
            ],
            "image/png": "[encoded data removed]"
          },
          "metadata": {}
        }
      ]
    },
    {
      "cell_type": "markdown",
      "source": [
        "Question 5: Simple Data Filtering"
      ],
      "metadata": {
        "id": "H7tUfWjJstiy"
      }
    },
    {
      "cell_type": "code",
      "source": [
        "import pandas as pd\n",
        "above_85 = df[df[\"Math\"] > 85]\n",
        "print(\"Students who scored above 85 in Math are:\")\n",
        "for name in above_85[\"Name\"]:\n",
        "    print(name)\n",
        "age_17 = df[df[\"Age\"] == 17]\n",
        "print(\"Students who are 17: \")\n",
        "for ages in age_17[\"Name\"]:\n",
        "    print(ages)\n",
        "all_above_80 = df[(df[[\"Math\", \"Science\", \"English\"]] > 80).all(axis=1)]\n",
        "print(\"Students who scored above 80 in all subjects are:\")\n",
        "print(all_above_80[[\"Name\", \"Math\", \"Science\", \"English\"]])\n",
        "#makes a new column in the df and adds the sum of all subjects score for eahc student\n",
        "df[\"Total_Score\"] = df[\"Math\"] + df[\"Science\"] + df[\"English\"]\n",
        "print(df)\n",
        "#makes all values sort in descending order\n",
        "df_sorted = df.sort_values(by=\"Total_Score\", ascending=False)\n",
        "print(df_sorted)"
      ],
      "metadata": {
        "colab": {
          "base_uri": "https://localhost:8080/"
        },
        "id": "AqUU9An1suWi",
        "outputId": "1cac8f2e-9a74-4d56-8a79-6ec93078bcef"
      },
      "execution_count": null,
      "outputs": [
        {
          "output_type": "stream",
          "name": "stdout",
          "text": [
            "Students who scored above 85 in Math are:\n",
            "Bryan\n",
            "Students who are 17: \n",
            "Bob\n",
            "Jack\n",
            "Max\n",
            "Students who scored above 80 in all subjects are:\n",
            "    Name  Math  Science  English\n",
            "0  Alice    85       90       88\n",
            "6  Bryan    98       99      100\n",
            "      Name  Age  Math  Science  English  Total_Score\n",
            "0    Alice   16    85       90       88          263\n",
            "1      Bob   17    78       82       85          245\n",
            "2     Jack   17    65       79       98          242\n",
            "3      Pat   16    74       99       88          261\n",
            "4   Nicole   15    82       56       79          217\n",
            "5    Emily   15    67       78       76          221\n",
            "6    Bryan   16    98       99      100          297\n",
            "7      Max   17    60       89       91          240\n",
            "8  Sabrina   15    78       93       84          255\n",
            "9    Lucie   16    71       86       93          250\n",
            "      Name  Age  Math  Science  English  Total_Score\n",
            "6    Bryan   16    98       99      100          297\n",
            "0    Alice   16    85       90       88          263\n",
            "3      Pat   16    74       99       88          261\n",
            "8  Sabrina   15    78       93       84          255\n",
            "9    Lucie   16    71       86       93          250\n",
            "1      Bob   17    78       82       85          245\n",
            "2     Jack   17    65       79       98          242\n",
            "7      Max   17    60       89       91          240\n",
            "5    Emily   15    67       78       76          221\n",
            "4   Nicole   15    82       56       79          217\n"
          ]
        }
      ]
    },
    {
      "cell_type": "markdown",
      "source": [
        "Question 6: Basic Data Analysis nf"
      ],
      "metadata": {
        "id": "nOnxPA6NgbSD"
      }
    },
    {
      "cell_type": "code",
      "source": [
        "import pandas as pd\n",
        "\n",
        "def analyze_subject(df, subject_name):\n",
        "    subject_scores = df[subject_name]\n",
        "    highest = subject_scores.max()\n",
        "    lowest = subject_scores.min()\n",
        "    average = subject_scores.mean()\n",
        "    above_80 = (subject_scores > 80).sum()\n",
        "    print(f\"{subject_name} Analysis : \")\n",
        "    print(f\"Highest Score: {highest}\")\n",
        "    print(f\"Lowest Score: {lowest}\")\n",
        "    print(f\"Average Score: {average:.2f}\")\n",
        "    print(f\"Number of students scoring above 80: {above_80}\")\n",
        "\n",
        "def compare_ages(df):\n",
        "  #cleans the age column and strips unnecessary spaces, and converts to intg\n",
        "  df[\"Age\"] = df[\"Age\"].astype(str).str.strip().astype(int)\n",
        "  #creates a new column which sums all 3 subjects\n",
        "  df[\"Total\"] = df[[\"Math\", \"Science\", \"English\"]].sum(axis=1)\n",
        "  age_group_avg = df.groupby(\"Age\")[\"Total\"].mean()\n",
        "  #prints average total scores for each age group\n",
        "  print(\"--- Average Total Score by Age ---\")\n",
        "  for age, avg_score in age_group_avg.items():\n",
        "    print(f\"Age {age}: Average Total Score = {avg_score:.2f}\")\n",
        "df = pd.read_csv(\"student_files.csv\")\n",
        "analyze_subject(df, \"Math\")\n",
        "analyze_subject(df, \"Science\")\n",
        "analyze_subject(df, \"English\")\n",
        "compare_ages(df)\n",
        "#What the results tell me, what score most people get for each subject,\n",
        "# which subjects most people excel at, and\n",
        "# which age group gets the top scores"
      ],
      "metadata": {
        "id": "8vz4yN2dW-q5",
        "colab": {
          "base_uri": "https://localhost:8080/"
        },
        "outputId": "51d4d92e-d56f-494e-fb70-c0cd92c9998c"
      },
      "execution_count": null,
      "outputs": [
        {
          "output_type": "stream",
          "name": "stdout",
          "text": [
            "Math Analysis : \n",
            "Highest Score: 98\n",
            "Lowest Score: 60\n",
            "Average Score: 75.80\n",
            "Number of students scoring above 80: 3\n",
            "Science Analysis : \n",
            "Highest Score: 99\n",
            "Lowest Score: 56\n",
            "Average Score: 85.10\n",
            "Number of students scoring above 80: 7\n",
            "English Analysis : \n",
            "Highest Score: 100\n",
            "Lowest Score: 76\n",
            "Average Score: 88.20\n",
            "Number of students scoring above 80: 8\n",
            "--- Average Total Score by Age ---\n",
            "Age 15: Average Total Score = 231.00\n",
            "Age 16: Average Total Score = 267.75\n",
            "Age 17: Average Total Score = 242.33\n"
          ]
        }
      ]
    },
    {
      "cell_type": "markdown",
      "source": [
        "Question 7: File Writing with Results nf"
      ],
      "metadata": {
        "id": "9K7fclHxvPrT"
      }
    },
    {
      "cell_type": "code",
      "source": [
        "import pandas as pd\n",
        "import csv\n",
        "df = pd.read_csv(\"student_files.csv\")\n",
        "#goes through the row and finds the mean of of the 3 subjects and rounds it\n",
        "df[\"Average\"] = df[[\"Math\", \"Science\", \"English\"]].mean(axis=1).round(2)\n",
        "#print(df[[\"Name\", \"Average\"]])\n",
        "#reused old code to determine their letter grade\n",
        "def get_letter_grade(score):\n",
        "    if score >= 90:\n",
        "        return \"A\"\n",
        "    elif score >= 80:\n",
        "        return \"B\"\n",
        "    elif score >= 70:\n",
        "        return \"C\"\n",
        "    elif score >= 60:\n",
        "        return \"D\"\n",
        "    else:\n",
        "        return \"F\"\n",
        "#This applies the letter grade to a new column corresponding to each student\n",
        "df[\"Letter_Grade\"] = df[\"Average\"].apply(get_letter_grade)\n",
        "\n",
        "student_rep_header = [\"Name\", \"Age\", \"Average\", \"Letter_Grade\"]\n",
        "filename = \"student_report.csv\"\n",
        "df_student_report = df[student_rep_header]\n",
        "df_student_report.to_csv(filename, index=False)\n",
        "\n",
        "#counts rows, or students in the df\n",
        "Total_Students = len(df)\n",
        "#\n",
        "class_average = df[\"Average\"].mean().round(2)\n",
        "grade_counts = df[\"Letter_Grade\"].value_counts()\n",
        "#opens a txt file\n",
        "with open(\"class_summary.txt\", \"w\") as file:\n",
        "    file.write(f\"Total number of students: {Total_Students}\\n\")\n",
        "    file.write(f\"Class average score: {class_average}\\n\")\n",
        "    file.write(\"Number of students by letter grade: \")\n",
        "    for grade in [\"A\", \"B\", \"C\", \"D\", \"F\"]:\n",
        "        count = grade_counts.get(grade, 0)\n",
        "        file.write(f\"{grade}: {count}\\n\")\n",
        "#now it has created both a txt file and a csv file"
      ],
      "metadata": {
        "id": "1ITsw3tRvPEC"
      },
      "execution_count": null,
      "outputs": []
    },
    {
      "cell_type": "markdown",
      "source": [
        "Question 8: Simple Data Grouping (10 points)"
      ],
      "metadata": {
        "id": "gxJcZX3W5Fyc"
      }
    },
    {
      "cell_type": "code",
      "source": [
        "import pandas as pd\n",
        "import matplotlib.pyplot as plt\n",
        "\n",
        "df = pd.read_csv(\"student_files.csv\")\n",
        "#finds average for each group\n",
        "avg_math_by_age = df.groupby('Age')['Math'].mean()\n",
        "#groups kids that are the same age together\n",
        "count_by_age = df.groupby('Age')['Name'].count()\n",
        "print(\"Average Math Score by Age Group:\")\n",
        "print(avg_math_by_age.round(2))\n",
        "print(\"\\nCount of Students by Age Group:\")\n",
        "print(count_by_age)\n",
        "#plots bar chart of average Math scores by age\n",
        "avg_math_by_age.plot(kind='bar', color='orange')\n",
        "plt.title('Average Math Score by Age Group',color = \"red\")\n",
        "plt.xlabel('Age', color = \"blue\")\n",
        "plt.ylabel('Average Math Score', color = \"blue\")\n",
        "plt.xticks(rotation=0)\n",
        "plt.show()\n",
        "#prints age group that has the hghest value in math\n",
        "best_age_group = avg_math_by_age.idxmax()\n",
        "best_score = avg_math_by_age.max()\n",
        "print(\"The age gorup that does the best in math is: \", best_age_group, \"!\")"
      ],
      "metadata": {
        "id": "AiWNHYv3-2Xr",
        "colab": {
          "base_uri": "https://localhost:8080/",
          "height": 715
        },
        "outputId": "5d5fe45b-1ff3-4b93-8e6d-036d9fd792e7"
      },
      "execution_count": null,
      "outputs": [
        {
          "output_type": "stream",
          "name": "stdout",
          "text": [
            "Average Math Score by Age Group:\n",
            "Age\n",
            "15    75.67\n",
            "16    82.00\n",
            "17    67.67\n",
            "Name: Math, dtype: float64\n",
            "\n",
            "Count of Students by Age Group:\n",
            "Age\n",
            "15    3\n",
            "16    4\n",
            "17    3\n",
            "Name: Name, dtype: int64\n"
          ]
        },
        {
          "output_type": "display_data",
          "data": {
            "text/plain": [
              "<Figure size 640x480 with 1 Axes>"
            ],
            "image/png": "[encoded data removed]"
          },
          "metadata": {}
        },
        {
          "output_type": "stream",
          "name": "stdout",
          "text": [
            "The age gorup that does the best in math is:  16 !\n"
          ]
        }
      ]
    },
    {
      "cell_type": "markdown",
      "source": [
        "Question 9: Data Cleaning Basics"
      ],
      "metadata": {
        "id": "9O1wKbVf-2m5"
      }
    },
    {
      "cell_type": "code",
      "source": [
        "import pandas as pd\n",
        "messy_data = {\n",
        "    'Name': ['Alice', 'Bob', 'Charlie', 'Alice', 'Diana'],  # Alice appears twice\n",
        "    'Math': [85, 90, '', 88, 92],  # Empty string in data\n",
        "    'Age': [16, 17, 16, 16, 18]\n",
        "}\n",
        "df_messy = pd.DataFrame(messy_data)\n",
        "#prints intial dataframe\n",
        "print(\"Original DataFrame:\")\n",
        "print(df_messy)\n",
        "# Converts to a dataframe\n",
        "df_clean = df_messy.drop_duplicates()\n",
        "df_clean = df_clean[df_clean['Math'] != '']\n",
        "#prints final dataframe\n",
        "print(\"\\nCleaned DataFrame:\")\n",
        "print(df_clean)"
      ],
      "metadata": {
        "colab": {
          "base_uri": "https://localhost:8080/"
        },
        "id": "sT7r3fkP-246",
        "outputId": "3ce873b9-8c2d-4d00-b1f9-8ec6c3a6705e"
      },
      "execution_count": null,
      "outputs": [
        {
          "output_type": "stream",
          "name": "stdout",
          "text": [
            "Original DataFrame:\n",
            "      Name Math  Age\n",
            "0    Alice   85   16\n",
            "1      Bob   90   17\n",
            "2  Charlie        16\n",
            "3    Alice   88   16\n",
            "4    Diana   92   18\n",
            "\n",
            "Cleaned DataFrame:\n",
            "    Name Math  Age\n",
            "0  Alice   85   16\n",
            "1    Bob   90   17\n",
            "3  Alice   88   16\n",
            "4  Diana   92   18\n"
          ]
        }
      ]
    },
    {
      "cell_type": "markdown",
      "source": [
        "Question 10: Mini Project - Grade Book"
      ],
      "metadata": {
        "id": "UaotuvgdDaAC"
      }
    },
    {
      "cell_type": "code",
      "source": [
        "import csv\n",
        "import matplotlib.pyplot as plt\n",
        "class GradeBook:\n",
        "    def __init__(self, students):\n",
        "        self.students = {}\n",
        "    def add_student(self, name, age):\n",
        "        if name not in self.students:\n",
        "            self.students[name] = {'age': age, 'grades': {}}\n",
        "        else:\n",
        "            print(f\"Student {name} already exists.\")\n",
        "    def add_grade(self, student_name, subject, grade):\n",
        "        if student_name in self.students:\n",
        "            if subject not in self.students[student_name]['grades']:\n",
        "                self.students[student_name]['grades'][subject] = []\n",
        "            self.students[student_name]['grades'][subject].append(grade)\n",
        "    def get_student_average(self, student_name):\n",
        "        if student_name not in self.students:\n",
        "            print(f\"Student {student_name} not found.\")\n",
        "            return None\n",
        "        grades = []\n",
        "        for subject_grades in self.students[student_name]['grades'].values():\n",
        "            grades.extend(subject_grades)\n",
        "        if grades:\n",
        "            return sum(grades) / len(grades)\n",
        "        else:\n",
        "            return 0\n",
        "    def get_class_average(self):\n",
        "        all_grades = []\n",
        "        for student in self.students.values():\n",
        "            for subject_grades in student['grades'].values():\n",
        "                all_grades.extend(subject_grades)\n",
        "        if all_grades:\n",
        "            return sum(all_grades) / len(all_grades)\n",
        "        else:\n",
        "            return 0\n",
        "\n",
        "    def save_to_file(self, filename):\n",
        "        with open(filename, mode='w', newline='') as file:\n",
        "            writer = csv.writer(file)\n",
        "            # Write header\n",
        "            writer.writerow(['Name', 'Age', 'Subject', 'Grades'])\n",
        "            for name, info in self.students.items():\n",
        "                age = info['age']\n",
        "                for subject, grades in info['grades'].items():\n",
        "                    grades_str = ';'.join(str(g) for g in grades)\n",
        "                    writer.writerow([name, age, subject, grades_str])\n",
        "book = GradeBook({})\n",
        "#adds the students and their ages\n",
        "book.add_student(\"Alice\", 16)\n",
        "book.add_student(\"Bob\", 17)\n",
        "book.add_student(\"Charlie\", 16)\n",
        "\n",
        "#adds grades for Alice\n",
        "book.add_grade(\"Alice\", \"Math\", 90)\n",
        "book.add_grade(\"Alice\", \"Science\", 85)\n",
        "book.add_grade(\"Alice\", \"English\", 88)\n",
        "#adds grades for bob\n",
        "book.add_grade(\"Bob\", \"Math\", 78)\n",
        "book.add_grade(\"Bob\", \"Science\", 82)\n",
        "book.add_grade(\"Bob\", \"English\", 80)\n",
        "#adds grades for charlie\n",
        "book.add_grade(\"Charlie\", \"Math\", 92)\n",
        "book.add_grade(\"Charlie\", \"Science\", 88)\n",
        "book.add_grade(\"Charlie\", \"English\", 91)\n",
        "\n",
        "print(\"Student Averages:\")\n",
        "for name in book.students:\n",
        "    avg = book.get_student_average(name)\n",
        "    print(f\"{name}: {avg:.1f}\")\n",
        "class_avg = book.get_class_average()\n",
        "print(f\"\\nClass Average: {class_avg:.1f}\")\n",
        "book.save_to_file(\"gradebook_simple.csv\")\n",
        "print(\"\\nSaved to 'gradebook_simple.csv'\")\n",
        "\n",
        "names = []\n",
        "averages = []\n",
        "\n",
        "for name in book.students:\n",
        "    avg = book.get_student_average(name)\n",
        "    names.append(name)\n",
        "    averages.append(avg)\n",
        "plt.bar(names, averages)\n",
        "plt.title(\"Student Averages\")\n",
        "plt.xlabel(\"Students\", color = \"red\")\n",
        "plt.ylabel(\"Average Grade\", color=\"red\")\n",
        "plt.ylim(0, 100)\n",
        "plt.show()"
      ],
      "metadata": {
        "colab": {
          "base_uri": "https://localhost:8080/",
          "height": 611
        },
        "id": "fi4B5y4cDdW5",
        "outputId": "eac1ee07-3a30-4344-9827-31ce34b18049"
      },
      "execution_count": null,
      "outputs": [
        {
          "output_type": "stream",
          "name": "stdout",
          "text": [
            "Student Averages:\n",
            "Alice: 87.7\n",
            "Bob: 80.0\n",
            "Charlie: 90.3\n",
            "\n",
            "Class Average: 86.0\n",
            "\n",
            "Saved to 'gradebook_simple.csv'\n"
          ]
        },
        {
          "output_type": "display_data",
          "data": {
            "text/plain": [
              "<Figure size 640x480 with 1 Axes>"
            ],
            "image/png": "[encoded data removed]"
          },
          "metadata": {}
        }
      ]
    }
  ]
}