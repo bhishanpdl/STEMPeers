{
  "nbformat": 4,
  "nbformat_minor": 0,
  "metadata": {
    "colab": {
      "provenance": []
    },
    "kernelspec": {
      "name": "python3",
      "display_name": "Python 3"
    },
    "language_info": {
      "name": "python"
    }
  },
  "cells": [
    {
      "cell_type": "code",
      "execution_count": null,
      "metadata": {
        "colab": {
          "base_uri": "https://localhost:8080/"
        },
        "collapsed": true,
        "id": "lWcqJW6znotg",
        "outputId": "ce03a837-c7b4-4f71-e4ec-46794b832cc6"
      },
      "outputs": [
        {
          "output_type": "stream",
          "name": "stdout",
          "text": [
            "Square of 7: 49\n",
            "23°C in Fahrenheit: 73.4\n",
            "5 is: Odd\n"
          ]
        }
      ],
      "source": [
        "#Function 1: Square of Number\n",
        "def square_number(num):\n",
        "  return num ** 2\n",
        "#Function 2: Celsius to Fahrenheit converter\n",
        "def celsius_to_fahrenheit(celsius):\n",
        "  fahrenheit = (celsius * 9/5) + 32\n",
        "  return fahrenheit\n",
        "#Function 3: Check if a number is even or odd\n",
        "def even_or_odd(num):\n",
        "  if num % 2 == 0:\n",
        "    return \"Even\"\n",
        "  else:\n",
        "    return \"Odd\"\n",
        "\n",
        "#Test\n",
        "print(\"Square of 7:\", square_number(7))\n",
        "print(\"23°C in Fahrenheit:\", celsius_to_fahrenheit(23))\n",
        "print(\"5 is:\", even_or_odd(5))"
      ]
    }
  ]
}