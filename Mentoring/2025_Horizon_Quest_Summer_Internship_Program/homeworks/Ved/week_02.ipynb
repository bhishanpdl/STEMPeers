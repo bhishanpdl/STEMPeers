{
  "nbformat": 4,
  "nbformat_minor": 0,
  "metadata": {
    "colab": {
      "provenance": []
    },
    "kernelspec": {
      "name": "python3",
      "display_name": "Python 3"
    },
    "language_info": {
      "name": "python"
    }
  },
  "cells": [
    {
      "cell_type": "code",
      "execution_count": null,
      "metadata": {
        "id": "wMgrb-0sV3zJ"
      },
      "outputs": [],
      "source": [
        "# Write to file\n",
        "with open(\"my_grades.txt\", \"w\") as f:\n",
        "    f.write(\"Ved Amin\\n\")\n",
        "    f.write(\"Math: 85\\n\")\n",
        "    f.write(\"Science: 90\\n\")\n",
        "    f.write(\"English: 78\\n\")\n",
        "    f.write(\"History: 88\\n\")\n",
        "    f.write(\"Art: 95\\n\")\n",
        "\n",
        "# Read and print\n",
        "with open(\"my_grades.txt\", \"r\") as f:\n",
        "    lines = f.readlines()\n",
        "    for line in lines:\n",
        "        print(line.strip())\n",
        "\n",
        "# Calculate average\n",
        "grades = [85, 90, 78, 88, 95]\n",
        "average = sum(grades) / len(grades)\n",
        "print(f\"Average Grade: {average}\")"
      ]
    },
    {
      "cell_type": "code",
      "source": [
        "class Student:\n",
        "    def __init__(self, name, age, grade):\n",
        "        self.name = name\n",
        "        self.age = age\n",
        "        self.grades = [grade] # Initialize grades as a list with the initial grade\n",
        "\n",
        "    def add_grade(self,grade):\n",
        "        self.grades.append(grade)\n",
        "\n",
        "    def get_average_grade(self):\n",
        "        return sum(self.grades) / len(self.grades)\n",
        "\n",
        "    def get_letter_grade(self):\n",
        "        avg = self.get_average_grade()\n",
        "        if avg >= 90:\n",
        "            return \"A\"\n",
        "        elif avg >= 80:\n",
        "            return \"B\"\n",
        "        elif avg >= 70:\n",
        "            return \"C\"\n",
        "        elif avg >= 60:\n",
        "            return \"D\"\n",
        "        else:\n",
        "            return \"F\"\n",
        "\n",
        "# Test\n",
        "student = Student(\"Alice\", 16, 85) # Pass a single grade initially\n",
        "student.add_grade(90)\n",
        "student.add_grade(78)\n",
        "student.add_grade(88)\n",
        "print(f\"Average: {student.get_average_grade()}\") # Correct method call\n",
        "print(f\"Letter Grade: {student.get_letter_grade()}\")"
      ],
      "metadata": {
        "id": "1Bnm7F4LZNM3"
      },
      "execution_count": null,
      "outputs": []
    },
    {
      "cell_type": "code",
      "source": [
        "import pandas as pd\n",
        "data = {\n",
        "    \"Name\": [\"Alice\", \"Bob\", \"Charlie\", \"Diana\", \"Eve\", \"Frank\", \"Grace\", \"Henry\", \"Ivy\", \"Jack\"],\n",
        "    \"Age\": [16, 17, 16, 18, 17, 16, 18, 17, 16, 17],\n",
        "    \"Math\": [85, 78, 92, 88, 90, 82, 95, 87, 89, 84],\n",
        "    \"Science\": [90, 82, 88, 95, 85, 78, 92, 89, 91, 86],\n",
        "    \"English\": [88, 85, 90, 87, 92, 83, 94, 86, 88, 89]\n",
        "}\n",
        "df = pd.DataFrame(data)\n",
        "print(df.head(3))\n",
        "print(df.info())\n",
        "print(df[[\"Math\", \"Science\", \"English\"]].mean())\n",
        "df[\"Total\"]= df[[\"Math\", \"Science\",\"English\"]].sum(axis=1)\n",
        "top_student =  df.loc[df[\"Total\"].idxmax()]\n",
        "print(f\"Top Student: {top_student['Name']} with score {top_student['Total']}\")"
      ],
      "metadata": {
        "id": "BXLvYkaGp9vR"
      },
      "execution_count": null,
      "outputs": []
    },
    {
      "cell_type": "code",
      "source": [
        "import matplotlib.pyplot as plt\n",
        "# Averages\n",
        "averages = df[[\"Math\", \"Science\", \"English\"]].mean()\n",
        "# Create subplots\n",
        "fig, axs = plt.subplots(1, 3, figsize=(15, 5))\n",
        "# Bar Chart\n",
        "axs[0].bar(averages.index, averages.values, color='skyblue')\n",
        "axs[0].set_title(\"Average Scores by Subject\")\n",
        "axs[0].set_ylabel(\"Average Score\")\n",
        "#Histogram\n",
        "axs[1].hist(df[\"Math\"], bins=5, color='lightgreen')\n",
        "axs[1].set_title(\"Histogram of Math Scores\")\n",
        "# Scatter plot\n",
        "axs[2].scatter(df[\"Math\"], df[\"Science\"], color='salmon')\n",
        "axs[2].set_title(\"Math vs Science Scores\")\n",
        "axs[2].set_xlabel(\"Math\")\n",
        "axs[2].set_ylabel(\"Science\")\n",
        "plt.tight_layout()\n",
        "plt.show()\n"
      ],
      "metadata": {
        "id": "jqPCAKo9szJU"
      },
      "execution_count": null,
      "outputs": []
    },
    {
      "cell_type": "code",
      "metadata": {
        "id": "814489e7"
      },
      "source": [
        "# Above 85 in Math\n",
        "print(\"Math > 85\")\n",
        "print(df[df[\"Math\"] > 85])\n",
        "# Above 80 in all Subjects\n",
        "print(\"All subjects > 80\")\n",
        "print(df[(df[\"Math\"] > 80) & (df[\"Science\"] > 80) & (df[\"English\"] > 80)])\n",
        "# Total scoring\n",
        "df[\"Total_Score\"] = df [[\"Math\", \"Science\", \"English\"]].sum(axis=1)\n",
        "# Sort\n",
        "print(\"Sorted by Total Score\")\n",
        "print(df.sort_values(by=\"Total_Score\", ascending=False))"
      ],
      "execution_count": null,
      "outputs": []
    },
    {
      "cell_type": "code",
      "source": [
        "def analyze_subject(df, subject_name):\n",
        "    subject = df[subject_name]\n",
        "    print(f\"{subject_name} - Max: {subject.max()}, Min: {subject.min()}, Avg: {subject.mean()}\")\n",
        "    print(f\"Students scoring above 80: {(subject > 80).sum()}\")\n",
        "\n",
        "def compare_ages(df):\n",
        "    df[\"Total\"] = df[[\"Math\", \"Science\", \"English\"]].sum(axis=1)\n",
        "    print(df.groupby(\"Age\")[\"Total\"].mean())\n",
        "\n",
        "analyze_subject(df, \"Math\")\n",
        "compare_ages(df)"
      ],
      "metadata": {
        "id": "_J0twia-Nh5b"
      },
      "execution_count": null,
      "outputs": []
    },
    {
      "cell_type": "code",
      "source": [
        "def get_letter(avg):\n",
        "    if avg >= 90: return \"A\"\n",
        "    elif avg >= 80: return \"B\"\n",
        "    elif avg >= 70: return \"C\"\n",
        "    elif avg >= 60: return \"D\"\n",
        "    return \"F\"\n",
        "\n",
        "df[\"Average_Score\"] = df[[\"Math\", \"Science\", \"English\"]].mean(axis=1)\n",
        "df[\"Letter_Grade\"] = df[\"Average_Score\"].apply(get_letter)\n",
        "\n",
        "# Save to CSV\n",
        "df[[\"Name\", \"Age\", \"Average_Score\", \"Letter_Grade\"]].to_csv(\"student_report.csv\", index=False)\n",
        "\n",
        "# Class summary\n",
        "summary = [\n",
        "    f\"Total Students: {len(df)}\",\n",
        "    f\"Class Average: {df['Average_Score'].mean():.2f}\",\n",
        "    df[\"Letter_Grade\"].value_counts().to_string()\n",
        "]\n",
        "\n",
        "with open(\"class_summary.txt\", \"w\") as f:\n",
        "    f.write(\"\\n\".join(summary))"
      ],
      "metadata": {
        "id": "VnivONxNOhvh"
      },
      "execution_count": null,
      "outputs": []
    },
    {
      "cell_type": "code",
      "source": [
        "import matplotlib.pyplot as plt\n",
        "# Group by Age\n",
        "avg_math_by_age = df.groupby(\"Age\")[\"Math\"].mean()\n",
        "count_by_age = df[\"Age\"].value_counts()\n",
        "print(\"Average Math by Age:\\n\", avg_math_by_age)\n",
        "print(\"Count by Age:\\n\", count_by_age)\n",
        "# Plot\n",
        "avg_math_by_age.plot(kind='bar', title=\"Average Math Score by Age\", color='orange')\n",
        "plt.ylabel(\"Average Score\")\n",
        "plt.show()\n",
        "\n",
        "print(\"Best performing age group in Math:\", avg_math_by_age.idxmax())"
      ],
      "metadata": {
        "id": "7efjogmCSvmF"
      },
      "execution_count": null,
      "outputs": []
    },
    {
      "cell_type": "code",
      "source": [
        "messy_data = {\n",
        "    'Name': ['Alice', 'Bob', 'Charlie', 'Alice', 'Diana'],\n",
        "    'Math': [85, 90, '', 88, 92],\n",
        "    'Age': [16, 17, 16, 16, 18]\n",
        "}\n",
        "messy_df = pd.DataFrame(messy_data)\n",
        "\n",
        "print(\"Original shape:\", messy_df.shape)\n",
        "print(\"Original Data:\\n\", messy_df)\n",
        "\n",
        "# Remove duplicates\n",
        "messy_df = messy_df.drop_duplicates()\n",
        "\n",
        "# Replace empty strings with NaN\n",
        "messy_df[\"Math\"].replace(\"\", pd.NA, inplace=True)\n",
        "messy_df[\"Math\"] = pd.to_numeric(messy_df[\"Math\"])\n",
        "\n",
        "# Fill missing values with mean\n",
        "mean_math = messy_df[\"Math\"].mean()\n",
        "messy_df[\"Math\"].fillna(mean_math, inplace=True)\n",
        "\n",
        "print(\"Cleaned Data:\\n\", messy_df)"
      ],
      "metadata": {
        "id": "Y4SvyNT7Vm8d"
      },
      "execution_count": null,
      "outputs": []
    },
    {
      "cell_type": "code",
      "source": [
        "class GradeBook:\n",
        "    def __init__(self):\n",
        "        self.students = {}\n",
        "\n",
        "    def add_student(self, name, age):\n",
        "        self.students[name] = {\"Age\": age, \"Grades\": {}}\n",
        "\n",
        "    def add_grade(self, student_name, subject, grade):\n",
        "        self.students[student_name][\"Grades\"][subject] = grade\n",
        "\n",
        "    def get_student_average(self, student_name):\n",
        "        grades = self.students[student_name][\"Grades\"].values()\n",
        "        return sum(grades) / len(grades)\n",
        "\n",
        "    def get_class_average(self):\n",
        "        total = [self.get_student_average(name) for name in self.students]\n",
        "        return sum(total) / len(total)\n",
        "\n",
        "    def save_to_file(self, filename):\n",
        "        rows = []\n",
        "        for name, data in self.students.items():\n",
        "            avg = self.get_student_average(name)\n",
        "            row = {\n",
        "                \"Name\": name,\n",
        "                \"Age\": data[\"Age\"],\n",
        "                \"Average\": avg\n",
        "            }\n",
        "            rows.append(row)\n",
        "        pd.DataFrame(rows).to_csv(filename, index=False)\n",
        "\n",
        "# Test\n",
        "gb = GradeBook()\n",
        "gb.add_student(\"Alice\", 16)\n",
        "gb.add_student(\"Bob\", 17)\n",
        "gb.add_student(\"Charlie\", 16)\n",
        "\n",
        "gb.add_grade(\"Alice\", \"Math\", 85)\n",
        "gb.add_grade(\"Alice\", \"Science\", 90)\n",
        "gb.add_grade(\"Alice\", \"English\", 88)\n",
        "\n",
        "gb.add_grade(\"Bob\", \"Math\", 78)\n",
        "gb.add_grade(\"Bob\", \"Science\", 82)\n",
        "gb.add_grade(\"Bob\", \"English\", 85)\n",
        "\n",
        "gb.add_grade(\"Charlie\", \"Math\", 92)\n",
        "gb.add_grade(\"Charlie\", \"Science\", 88)\n",
        "gb.add_grade(\"Charlie\", \"English\", 90)\n",
        "\n",
        "for student in gb.students:\n",
        "    print(f\"{student}'s Average: {gb.get_student_average(student)}\")\n",
        "\n",
        "print(\"Class Average:\", gb.get_class_average())\n",
        "\n",
        "gb.save_to_file(\"gradebook.csv\")\n",
        "\n",
        "# Bar Chart\n",
        "names = list(gb.students.keys())\n",
        "averages = [gb.get_student_average(name) for name in names]\n",
        "\n",
        "plt.bar(names, averages, color=\"purple\")\n",
        "plt.title(\"Student Averages\")\n",
        "plt.ylabel(\"Average Grade\")\n",
        "plt.show()"
      ],
      "metadata": {
        "colab": {
          "base_uri": "https://localhost:8080/",
          "height": 523
        },
        "id": "hk90n5YEXzjU",
        "outputId": "5785b82c-d052-4583-a7d8-b63d5990017e"
      },
      "execution_count": null,
      "outputs": [
        {
          "output_type": "stream",
          "name": "stdout",
          "text": [
            "Alice's Average: 87.66666666666667\n",
            "Bob's Average: 81.66666666666667\n",
            "Charlie's Average: 90.0\n",
            "Class Average: 86.44444444444446\n"
          ]
        },
        {
          "output_type": "display_data",
          "data": {
            "text/plain": [
              "<Figure size 640x480 with 1 Axes>"
            ],
            "image/png": "[encoded data removed]"
          },
          "metadata": {}
        }
      ]
    }
  ]
}