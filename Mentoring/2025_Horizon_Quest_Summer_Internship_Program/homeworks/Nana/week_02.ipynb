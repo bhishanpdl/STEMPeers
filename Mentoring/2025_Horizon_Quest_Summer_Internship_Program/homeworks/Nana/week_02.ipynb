{
  "nbformat": 4,
  "nbformat_minor": 0,
  "metadata": {
    "colab": {
      "provenance": []
    },
    "kernelspec": {
      "name": "python3",
      "display_name": "Python 3"
    },
    "language_info": {
      "name": "python"
    }
  },
  "cells": [
    {
      "cell_type": "markdown",
      "source": [
        "Question 3"
      ],
      "metadata": {
        "id": "wu7cbIsE0loO"
      }
    },
    {
      "cell_type": "code",
      "execution_count": null,
      "metadata": {
        "colab": {
          "base_uri": "https://localhost:8080/",
          "height": 89
        },
        "id": "CZUeHmDWcxKn",
        "outputId": "2ebc87ea-c035-4aab-f373-39a41a28a44c"
      },
      "outputs": [
        {
          "output_type": "display_data",
          "data": {
            "text/plain": [
              "           Name  Math  Science  English  History  Art\n",
              "0  Nana Prempeh    85       92       78       88   95"
            ],
            "text/html": [
              "\n",
              "  <div id=\"df-46b2a425-4622-4202-ad2e-8e10cd73440c\" class=\"colab-df-container\">\n",
              "    <div>\n",
              "<style scoped>\n",
              "    .dataframe tbody tr th:only-of-type {\n",
              "        vertical-align: middle;\n",
              "    }\n",
              "\n",
              "    .dataframe tbody tr th {\n",
              "        vertical-align: top;\n",
              "    }\n",
              "\n",
              "    .dataframe thead th {\n",
              "        text-align: right;\n",
              "    }\n",
              "</style>\n",
              "<table border=\"1\" class=\"dataframe\">\n",
              "  <thead>\n",
              "    <tr style=\"text-align: right;\">\n",
              "      <th></th>\n",
              "      <th>Name</th>\n",
              "      <th>Math</th>\n",
              "      <th>Science</th>\n",
              "      <th>English</th>\n",
              "      <th>History</th>\n",
              "      <th>Art</th>\n",
              "    </tr>\n",
              "  </thead>\n",
              "  <tbody>\n",
              "    <tr>\n",
              "      <th>0</th>\n",
              "      <td>Nana Prempeh</td>\n",
              "      <td>85</td>\n",
              "      <td>92</td>\n",
              "      <td>78</td>\n",
              "      <td>88</td>\n",
              "      <td>95</td>\n",
              "    </tr>\n",
              "  </tbody>\n",
              "</table>\n",
              "</div>\n",
              "    <div class=\"colab-df-buttons\">\n",
              "\n",
              "  <div class=\"colab-df-container\">\n",
              "    <button class=\"colab-df-convert\" onclick=\"convertToInteractive('df-46b2a425-4622-4202-ad2e-8e10cd73440c')\"\n",
              "            title=\"Convert this dataframe to an interactive table.\"\n",
              "            style=\"display:none;\">\n",
              "\n",
              "  <svg xmlns=\"http://www.w3.org/2000/svg\" height=\"24px\" viewBox=\"0 -960 960 960\">\n",
              "    <path d=\"M120-120v-720h720v720H120Zm60-500h600v-160H180v160Zm220 220h160v-160H400v160Zm0 220h160v-160H400v160ZM180-400h160v-160H180v160Zm440 0h160v-160H620v160ZM180-180h160v-160H180v160Zm440 0h160v-160H620v160Z\"/>\n",
              "  </svg>\n",
              "    </button>\n",
              "\n",
              "  <style>\n",
              "    .colab-df-container {\n",
              "      display:flex;\n",
              "      gap: 12px;\n",
              "    }\n",
              "\n",
              "    .colab-df-convert {\n",
              "      background-color: #E8F0FE;\n",
              "      border: none;\n",
              "      border-radius: 50%;\n",
              "      cursor: pointer;\n",
              "      display: none;\n",
              "      fill: #1967D2;\n",
              "      height: 32px;\n",
              "      padding: 0 0 0 0;\n",
              "      width: 32px;\n",
              "    }\n",
              "\n",
              "    .colab-df-convert:hover {\n",
              "      background-color: #E2EBFA;\n",
              "      box-shadow: 0px 1px 2px rgba(60, 64, 67, 0.3), 0px 1px 3px 1px rgba(60, 64, 67, 0.15);\n",
              "      fill: #174EA6;\n",
              "    }\n",
              "\n",
              "    .colab-df-buttons div {\n",
              "      margin-bottom: 4px;\n",
              "    }\n",
              "\n",
              "    [theme=dark] .colab-df-convert {\n",
              "      background-color: #3B4455;\n",
              "      fill: #D2E3FC;\n",
              "    }\n",
              "\n",
              "    [theme=dark] .colab-df-convert:hover {\n",
              "      background-color: #434B5C;\n",
              "      box-shadow: 0px 1px 3px 1px rgba(0, 0, 0, 0.15);\n",
              "      filter: drop-shadow(0px 1px 2px rgba(0, 0, 0, 0.3));\n",
              "      fill: #FFFFFF;\n",
              "    }\n",
              "  </style>\n",
              "\n",
              "    <script>\n",
              "      const buttonEl =\n",
              "        document.querySelector('#df-46b2a425-4622-4202-ad2e-8e10cd73440c button.colab-df-convert');\n",
              "      buttonEl.style.display =\n",
              "        google.colab.kernel.accessAllowed ? 'block' : 'none';\n",
              "\n",
              "      async function convertToInteractive(key) {\n",
              "        const element = document.querySelector('#df-46b2a425-4622-4202-ad2e-8e10cd73440c');\n",
              "        const dataTable =\n",
              "          await google.colab.kernel.invokeFunction('convertToInteractive',\n",
              "                                                    [key], {});\n",
              "        if (!dataTable) return;\n",
              "\n",
              "        const docLinkHtml = 'Like what you see? Visit the ' +\n",
              "          '<a target=\"_blank\" href=https://colab.research.google.com/notebooks/data_table.ipynb>data table notebook</a>'\n",
              "          + ' to learn more about interactive tables.';\n",
              "        element.innerHTML = '';\n",
              "        dataTable['output_type'] = 'display_data';\n",
              "        await google.colab.output.renderOutput(dataTable, element);\n",
              "        const docLink = document.createElement('div');\n",
              "        docLink.innerHTML = docLinkHtml;\n",
              "        element.appendChild(docLink);\n",
              "      }\n",
              "    </script>\n",
              "  </div>\n",
              "\n",
              "\n",
              "  <div id=\"id_5535e80f-25a9-4612-a509-718e3ec38724\">\n",
              "    <style>\n",
              "      .colab-df-generate {\n",
              "        background-color: #E8F0FE;\n",
              "        border: none;\n",
              "        border-radius: 50%;\n",
              "        cursor: pointer;\n",
              "        display: none;\n",
              "        fill: #1967D2;\n",
              "        height: 32px;\n",
              "        padding: 0 0 0 0;\n",
              "        width: 32px;\n",
              "      }\n",
              "\n",
              "      .colab-df-generate:hover {\n",
              "        background-color: #E2EBFA;\n",
              "        box-shadow: 0px 1px 2px rgba(60, 64, 67, 0.3), 0px 1px 3px 1px rgba(60, 64, 67, 0.15);\n",
              "        fill: #174EA6;\n",
              "      }\n",
              "\n",
              "      [theme=dark] .colab-df-generate {\n",
              "        background-color: #3B4455;\n",
              "        fill: #D2E3FC;\n",
              "      }\n",
              "\n",
              "      [theme=dark] .colab-df-generate:hover {\n",
              "        background-color: #434B5C;\n",
              "        box-shadow: 0px 1px 3px 1px rgba(0, 0, 0, 0.15);\n",
              "        filter: drop-shadow(0px 1px 2px rgba(0, 0, 0, 0.3));\n",
              "        fill: #FFFFFF;\n",
              "      }\n",
              "    </style>\n",
              "    <button class=\"colab-df-generate\" onclick=\"generateWithVariable('df')\"\n",
              "            title=\"Generate code using this dataframe.\"\n",
              "            style=\"display:none;\">\n",
              "\n",
              "  <svg xmlns=\"http://www.w3.org/2000/svg\" height=\"24px\"viewBox=\"0 0 24 24\"\n",
              "       width=\"24px\">\n",
              "    <path d=\"M7,19H8.4L18.45,9,17,7.55,7,17.6ZM5,21V16.75L18.45,3.32a2,2,0,0,1,2.83,0l1.4,1.43a1.91,1.91,0,0,1,.58,1.4,1.91,1.91,0,0,1-.58,1.4L9.25,21ZM18.45,9,17,7.55Zm-12,3A5.31,5.31,0,0,0,4.9,8.1,5.31,5.31,0,0,0,1,6.5,5.31,5.31,0,0,0,4.9,4.9,5.31,5.31,0,0,0,6.5,1,5.31,5.31,0,0,0,8.1,4.9,5.31,5.31,0,0,0,12,6.5,5.46,5.46,0,0,0,6.5,12Z\"/>\n",
              "  </svg>\n",
              "    </button>\n",
              "    <script>\n",
              "      (() => {\n",
              "      const buttonEl =\n",
              "        document.querySelector('#id_5535e80f-25a9-4612-a509-718e3ec38724 button.colab-df-generate');\n",
              "      buttonEl.style.display =\n",
              "        google.colab.kernel.accessAllowed ? 'block' : 'none';\n",
              "\n",
              "      buttonEl.onclick = () => {\n",
              "        google.colab.notebook.generateWithVariable('df');\n",
              "      }\n",
              "      })();\n",
              "    </script>\n",
              "  </div>\n",
              "\n",
              "    </div>\n",
              "  </div>\n"
            ],
            "application/vnd.google.colaboratory.intrinsic+json": {
              "type": "dataframe",
              "variable_name": "df",
              "summary": "{\n  \"name\": \"df\",\n  \"rows\": 1,\n  \"fields\": [\n    {\n      \"column\": \"Name\",\n      \"properties\": {\n        \"dtype\": \"string\",\n        \"num_unique_values\": 1,\n        \"samples\": [\n          \"Nana Prempeh\"\n        ],\n        \"semantic_type\": \"\",\n        \"description\": \"\"\n      }\n    },\n    {\n      \"column\": \"Math\",\n      \"properties\": {\n        \"dtype\": \"number\",\n        \"std\": null,\n        \"min\": 85,\n        \"max\": 85,\n        \"num_unique_values\": 1,\n        \"samples\": [\n          85\n        ],\n        \"semantic_type\": \"\",\n        \"description\": \"\"\n      }\n    },\n    {\n      \"column\": \"Science\",\n      \"properties\": {\n        \"dtype\": \"number\",\n        \"std\": null,\n        \"min\": 92,\n        \"max\": 92,\n        \"num_unique_values\": 1,\n        \"samples\": [\n          92\n        ],\n        \"semantic_type\": \"\",\n        \"description\": \"\"\n      }\n    },\n    {\n      \"column\": \"English\",\n      \"properties\": {\n        \"dtype\": \"number\",\n        \"std\": null,\n        \"min\": 78,\n        \"max\": 78,\n        \"num_unique_values\": 1,\n        \"samples\": [\n          78\n        ],\n        \"semantic_type\": \"\",\n        \"description\": \"\"\n      }\n    },\n    {\n      \"column\": \"History\",\n      \"properties\": {\n        \"dtype\": \"number\",\n        \"std\": null,\n        \"min\": 88,\n        \"max\": 88,\n        \"num_unique_values\": 1,\n        \"samples\": [\n          88\n        ],\n        \"semantic_type\": \"\",\n        \"description\": \"\"\n      }\n    },\n    {\n      \"column\": \"Art\",\n      \"properties\": {\n        \"dtype\": \"number\",\n        \"std\": null,\n        \"min\": 95,\n        \"max\": 95,\n        \"num_unique_values\": 1,\n        \"samples\": [\n          95\n        ],\n        \"semantic_type\": \"\",\n        \"description\": \"\"\n      }\n    }\n  ]\n}"
            }
          },
          "metadata": {}
        }
      ],
      "source": [
        "import pandas as pd\n",
        "import re\n",
        "import matplotlib.pyplot as plt\n",
        "\n",
        "grades_data = []\n",
        "with open(\"my_grades.txt\", \"r\") as f:\n",
        "    lines = f.readlines()\n",
        "    # Assuming the first line is the name and subsequent lines are grades\n",
        "    name = lines[0].strip()\n",
        "    student_grades = {'Name': name}\n",
        "    for line in lines[1:]:\n",
        "        match = re.match(r\"(\\w+): (\\d+)\", line.strip())\n",
        "        if match:\n",
        "            subject, grade = match.groups()\n",
        "            student_grades[subject] = int(grade)\n",
        "    grades_data.append(student_grades)\n",
        "\n",
        "df = pd.DataFrame(grades_data)\n",
        "\n",
        "display(df)"
      ]
    },
    {
      "cell_type": "markdown",
      "source": [
        "Question 1"
      ],
      "metadata": {
        "id": "xw35qaNhfFM5"
      }
    },
    {
      "cell_type": "code",
      "source": [
        "%%writefile my_grades.txt\n"
      ],
      "metadata": {
        "colab": {
          "base_uri": "https://localhost:8080/"
        },
        "id": "vPnQs2oykt9S",
        "outputId": "7becb0e8-bc64-4dc6-d745-b9317521a169"
      },
      "execution_count": null,
      "outputs": [
        {
          "output_type": "stream",
          "name": "stdout",
          "text": [
            "Writing my_grades.txt\n"
          ]
        }
      ]
    },
    {
      "cell_type": "code",
      "source": [
        "with open(\"my_grades.txt\", \"w\") as f:\n",
        "    f.write(\"Nana Prempeh\\n\")\n",
        "    f.write(\"Math: 85\\nScience: 92\\nEnglish: 78\\nHistory: 88\\nArt: 95\\n\")\n",
        "\n",
        "\n",
        "with open(\"my_grades.txt\", \"r\") as f:\n",
        "    contents = f.readlines()\n",
        "    for line in contents:\n",
        "        print(line.strip())\n",
        "\n",
        "grades = [85, 92, 78, 88, 95]\n",
        "average = sum(grades) / len(grades)\n",
        "print(f\"Average Grade: {average:.1f}\")"
      ],
      "metadata": {
        "colab": {
          "base_uri": "https://localhost:8080/"
        },
        "id": "APoEJkFyfTWo",
        "outputId": "6cedcd82-3fd7-4987-b6c1-2ad0a9f166e6"
      },
      "execution_count": null,
      "outputs": [
        {
          "output_type": "stream",
          "name": "stdout",
          "text": [
            "Nana Prempeh\n",
            "Math: 85\n",
            "Science: 92\n",
            "English: 78\n",
            "History: 88\n",
            "Art: 95\n",
            "Average Grade: 87.6\n"
          ]
        }
      ]
    },
    {
      "cell_type": "markdown",
      "source": [
        "Question 2"
      ],
      "metadata": {
        "id": "umvOATDWlrij"
      }
    },
    {
      "cell_type": "code",
      "source": [
        "class Student:\n",
        "    def __init__(self, name, age, grades):\n",
        "        self.name = name\n",
        "        self.age = age\n",
        "        self.grades = grades\n",
        "\n",
        "    def add_grade(self, grade):\n",
        "        self.grades.append(grade)\n",
        "\n",
        "    def get_average(self):\n",
        "        return sum(self.grades) / len(self.grades)\n",
        "\n",
        "    def get_letter_grade(self):\n",
        "        avg = self.get_average()\n",
        "        if avg >= 90: return 'A'\n",
        "        elif avg >= 80: return 'B'\n",
        "        elif avg >= 70: return 'C'\n",
        "        elif avg >= 60: return 'D'\n",
        "        else: return 'F'\n",
        "\n",
        "student = Student(\"Alice\", 16, [85, 90, 78])\n",
        "student.add_grade(88)\n",
        "print(f\"Average: {student.get_average():.1f}\")\n",
        "print(f\"Letter Grade: {student.get_letter_grade()}\")\n",
        "\n",
        "\n"
      ],
      "metadata": {
        "colab": {
          "base_uri": "https://localhost:8080/"
        },
        "id": "FU1VeJwElybM",
        "outputId": "08487089-b3d7-4324-dc0f-f9f2620c71c6"
      },
      "execution_count": null,
      "outputs": [
        {
          "output_type": "stream",
          "name": "stdout",
          "text": [
            "Average: 85.2\n",
            "Letter Grade: B\n"
          ]
        }
      ]
    },
    {
      "cell_type": "markdown",
      "source": [
        "Question 4\n"
      ],
      "metadata": {
        "id": "2BmQ2zrRszI-"
      }
    },
    {
      "cell_type": "code",
      "source": [
        "import matplotlib.pyplot as plt\n",
        "\n",
        "avg_scores = df[['Math', 'Science', 'English']].mean()\n",
        "\n",
        "fig, axs = plt.subplots(1, 3, figsize=(15, 4))\n",
        "\n",
        "# Bar Chart\n",
        "axs[0].bar(avg_scores.index, avg_scores.values, color='skyblue')\n",
        "axs[0].set_title(\"Average Scores by Subject\")\n",
        "axs[0].set_ylabel(\"Average Score\")\n",
        "\n",
        "# Histogram\n",
        "axs[1].hist(df['Math'], bins=5, color='green')\n",
        "axs[1].set_title(\"Math Score Distribution\")\n",
        "\n",
        "# Scatter Plot\n",
        "axs[2].scatter(df['Math'], df['Science'], color='orange')\n",
        "axs[2].set_title(\"Math vs Science\")\n",
        "axs[2].set_xlabel(\"Math\")\n",
        "axs[2].set_ylabel(\"Science\")\n",
        "\n",
        "plt.tight_layout()\n",
        "plt.show()"
      ],
      "metadata": {
        "colab": {
          "base_uri": "https://localhost:8080/",
          "height": 182
        },
        "id": "4HtbryBxyChN",
        "outputId": "e69a9ac5-134d-450f-d9c2-90b3dcee8727"
      },
      "execution_count": null,
      "outputs": [
        {
          "output_type": "display_data",
          "data": {
            "text/plain": [
              "<Figure size 1500x400 with 3 Axes>"
            ],
            "image/png": "[encoded data removed]"
          },
          "metadata": {}
        }
      ]
    },
    {
      "cell_type": "markdown",
      "source": [
        "question 5"
      ],
      "metadata": {
        "id": "PAlKLnbX0r7M"
      }
    },
    {
      "cell_type": "code",
      "source": [
        "print(\"\\nStudents with Math > 85:\\n\", df[df['Math'] > 85])\n",
        "print(\"\\nStudents with >80 in all subjects:\\n\", df[(df['Math'] > 80) & (df['Science'] > 80) & (df['English'] > 80)])\n",
        "\n",
        "df[\"Total_Score\"] = df[\"Math\"] + df[\"Science\"] + df[\"English\"]\n",
        "sorted_df = df.sort_values(\"Total_Score\", ascending=False)\n",
        "print(\"\\nSorted by Total Score:\\n\", sorted_df)"
      ],
      "metadata": {
        "colab": {
          "base_uri": "https://localhost:8080/"
        },
        "id": "URgcyu7p1cc5",
        "outputId": "0c1fd4e6-79dc-436c-a611-8d1172abb559"
      },
      "execution_count": null,
      "outputs": [
        {
          "output_type": "stream",
          "name": "stdout",
          "text": [
            "\n",
            "Students with Math > 85:\n",
            " Empty DataFrame\n",
            "Columns: [Name, Math, Science, English, History, Art]\n",
            "Index: []\n",
            "\n",
            "Students with >80 in all subjects:\n",
            " Empty DataFrame\n",
            "Columns: [Name, Math, Science, English, History, Art]\n",
            "Index: []\n",
            "\n",
            "Sorted by Total Score:\n",
            "            Name  Math  Science  English  History  Art  Total_Score\n",
            "0  Nana Prempeh    85       92       78       88   95          255\n"
          ]
        }
      ]
    },
    {
      "cell_type": "markdown",
      "source": [
        "Question 6"
      ],
      "metadata": {
        "id": "C5psEVfS2T8q"
      }
    },
    {
      "cell_type": "code",
      "source": [
        "def analyze_subject(df, subject):\n",
        "    print(f\"\\n--- {subject} Analysis ---\")\n",
        "    scores = df[subject]\n",
        "    print(\"Max:\", scores.max())\n",
        "    print(\"Min:\", scores.min())\n",
        "    print(\"Average:\", scores.mean())\n",
        "    print(\"Above 80:\", (scores > 80).sum())\n",
        "\n",
        "# Test\n",
        "analyze_subject(df, \"Math\")"
      ],
      "metadata": {
        "colab": {
          "base_uri": "https://localhost:8080/"
        },
        "id": "f3RKcsAb2Vgm",
        "outputId": "262563c3-3a5a-4fab-85fa-54c49e5a0b91"
      },
      "execution_count": null,
      "outputs": [
        {
          "output_type": "stream",
          "name": "stdout",
          "text": [
            "\n",
            "--- Math Analysis ---\n",
            "Max: 85\n",
            "Min: 85\n",
            "Average: 85.0\n",
            "Above 80: 1\n"
          ]
        }
      ]
    },
    {
      "cell_type": "markdown",
      "source": [
        "Question 7"
      ],
      "metadata": {
        "id": "y4KVqo9t2f_2"
      }
    },
    {
      "cell_type": "code",
      "source": [
        "def get_letter(avg):\n",
        "    if avg >= 90: return 'A'\n",
        "    elif avg >= 80: return 'B'\n",
        "    elif avg >= 70: return 'C'\n",
        "    elif avg >= 60: return 'D'\n",
        "    else: return 'F'\n",
        "\n",
        "df[\"Average_Score\"] = df[[\"Math\", \"Science\", \"English\"]].mean(axis=1)\n",
        "df[\"Letter_Grade\"] = df[\"Average_Score\"].apply(get_letter)\n",
        "\n",
        "df[[\"Name\", \"Average_Score\", \"Letter_Grade\"]].to_csv(\"student_report.csv\", index=False)\n",
        "\n",
        "# Summary\n",
        "class_avg = df[\"Average_Score\"].mean()\n",
        "grade_counts = df[\"Letter_Grade\"].value_counts()\n",
        "\n",
        "with open(\"class_summary.txt\", \"w\") as f:\n",
        "    f.write(f\"Total Students: {len(df)}\\n\")\n",
        "    f.write(f\"Class Average: {class_avg:.1f}\\n\")\n",
        "    f.write(\"Grade Counts:\\n\")\n",
        "    f.write(grade_counts.to_string())"
      ],
      "metadata": {
        "id": "gekA8aX63Bv9"
      },
      "execution_count": null,
      "outputs": []
    },
    {
      "cell_type": "markdown",
      "source": [
        "question 8"
      ],
      "metadata": {
        "id": "0RyFhl6H4Iq1"
      }
    },
    {
      "cell_type": "code",
      "source": [],
      "metadata": {
        "id": "KPFirDni4Wy5"
      },
      "execution_count": null,
      "outputs": []
    }
  ]
}