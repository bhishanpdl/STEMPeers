{
  "nbformat": 4,
  "nbformat_minor": 0,
  "metadata": {
    "colab": {
      "provenance": []
    },
    "kernelspec": {
      "name": "python3",
      "display_name": "Python 3"
    },
    "language_info": {
      "name": "python"
    }
  },
  "cells": [
    {
      "cell_type": "markdown",
      "source": [
        "Name: Keshav Ajith\n",
        "Email: keshav.ajithc@gmail.com\n",
        "Submission Date: 6/24/25"
      ],
      "metadata": {
        "id": "ZTmw5c6lt1_c"
      }
    },
    {
      "cell_type": "code",
      "source": [
        "def square():\n",
        "  num = input()\n",
        "  return num * num"
      ],
      "metadata": {
        "id": "lVoNbKWpt692"
      },
      "execution_count": null,
      "outputs": []
    },
    {
      "cell_type": "code",
      "source": [
        "def tempConvert():\n",
        "  celsius = input()\n",
        "  return (temp * 9/5) + 32"
      ],
      "metadata": {
        "id": "VrETtGNLv8EP"
      },
      "execution_count": null,
      "outputs": []
    },
    {
      "cell_type": "code",
      "source": [
        "def numChecker():\n",
        "  num = input()\n",
        "  if num % 2 == 0:\n",
        "    return \"Even\"\n",
        "  else:\n",
        "    return \"Odd\""
      ],
      "metadata": {
        "id": "a0U7Bmr5wfHW"
      },
      "execution_count": null,
      "outputs": []
    }
  ]
}